{
 "cells": [
  {
   "cell_type": "code",
   "execution_count": 868,
   "id": "0e7c5b80",
   "metadata": {},
   "outputs": [],
   "source": [
    "import numpy as np\n",
    "import matplotlib.pyplot as plt\n",
    "from itertools import product\n",
    "from scipy.optimize import minimize"
   ]
  },
  {
   "cell_type": "markdown",
   "id": "089225cc",
   "metadata": {},
   "source": [
    "<h4>Parameters<h4>"
   ]
  },
  {
   "cell_type": "code",
   "execution_count": 869,
   "id": "d897543d",
   "metadata": {},
   "outputs": [],
   "source": [
    "segment_count_beam = 100\n",
    "vertical_level_count = 200\n",
    "length_beam = 1000 # mm\n",
    "horizontal_force = 0.5 # N, + compression, - tension\n",
    "youngs_modulus = 2e3 # MPa\n",
    "moment_of_inertia = 20 # mm^4\n",
    "channel_width_half = 0.5e-6 # mm\n",
    "# boundary_penalty_coefficient = 1e1\n",
    "# pinned_penalty_coefficient = 1e1"
   ]
  },
  {
   "cell_type": "code",
   "execution_count": 870,
   "id": "bbe2507c",
   "metadata": {},
   "outputs": [
    {
     "name": "stdout",
     "output_type": "stream",
     "text": [
      "Critical buckling force: 0.39 N\n"
     ]
    }
   ],
   "source": [
    "print(f\"Critical buckling force: {3.14**2 * youngs_modulus * moment_of_inertia / length_beam**2:.2f} N\")"
   ]
  },
  {
   "cell_type": "markdown",
   "id": "2ebf2323",
   "metadata": {},
   "source": [
    "<h4>Initial Guess<h4>"
   ]
  },
  {
   "cell_type": "code",
   "execution_count": 871,
   "id": "fcca5211",
   "metadata": {},
   "outputs": [
    {
     "name": "stdout",
     "output_type": "stream",
     "text": [
      "The vertical level count has been adjusted to 201 (was 200).\n"
     ]
    }
   ],
   "source": [
    "# ensure y=0 is possible\n",
    "if vertical_level_count % 2 == 0:\n",
    "    vertical_level_count += 1\n",
    "    print(f\"The vertical level count has been adjusted to {vertical_level_count} (was {vertical_level_count-1}).\")\n",
    "\n",
    "# ensure ds>dy_max\n",
    "if segment_count_beam > length_beam/(2*channel_width_half):\n",
    "    previous = segment_count_beam\n",
    "    segment_count_beam = int(length_beam/(2*channel_width_half))\n",
    "    print(f\"The beam segment count has been adjusted to {segment_count_beam} (was {previous}).\")\n",
    "\n",
    "y_levels = np.linspace(-channel_width_half, 0, vertical_level_count)\n",
    "s, ds = np.linspace(0, length_beam, segment_count_beam+1, retstep=True)"
   ]
  },
  {
   "cell_type": "code",
   "execution_count": 872,
   "id": "34556ccc",
   "metadata": {},
   "outputs": [
    {
     "name": "stdout",
     "output_type": "stream",
     "text": [
      "2.5e-09\n"
     ]
    }
   ],
   "source": [
    "print(channel_width_half/(vertical_level_count-1))"
   ]
  },
  {
   "cell_type": "code",
   "execution_count": 873,
   "id": "4fee18df",
   "metadata": {},
   "outputs": [
    {
     "data": {
      "text/plain": [
       "0.16666666666666669"
      ]
     },
     "execution_count": 873,
     "metadata": {},
     "output_type": "execute_result"
    }
   ],
   "source": [
    "1/300*50"
   ]
  },
  {
   "cell_type": "code",
   "execution_count": 874,
   "id": "abac0d10",
   "metadata": {},
   "outputs": [],
   "source": [
    "def segment_energy_functional(I_val, J_val, K_val):\n",
    "    theta1 = np.arcsin((J_val - I_val) / ds)\n",
    "    theta2 = np.arcsin((K_val - J_val) / ds)\n",
    "\n",
    "    internal_strain_energy = 0.5 * youngs_modulus * moment_of_inertia * ( (theta2 - theta1)/ds )**2 * ds\n",
    "    external_force_work = horizontal_force * np.cos(theta1) * ds\n",
    "    \n",
    "    return internal_strain_energy + external_force_work"
   ]
  },
  {
   "cell_type": "code",
   "execution_count": 875,
   "id": "1701e311",
   "metadata": {},
   "outputs": [],
   "source": [
    "def viterbi_algorithm(vertical_level_count, segment_count_beam, segment_energy_functional):\n",
    "    C = {}\n",
    "    survivor = {}\n",
    "    index_zero = vertical_level_count//2\n",
    "\n",
    "    for I, J in product(range(vertical_level_count), repeat=2):\n",
    "        if I == index_zero:\n",
    "            C[(I, J, 1)] = 0\n",
    "            survivor[(I, J, 1)] = None\n",
    "        else:\n",
    "            C[(I, J, 1)] = np.inf\n",
    "            survivor[(I, J, 1)] = None\n",
    "\n",
    "    for m in range(2, segment_count_beam + 1):\n",
    "        for J, K in product(range(vertical_level_count), repeat=2):\n",
    "            best_cost = np.inf\n",
    "            best_prev_I = None\n",
    "\n",
    "            for I in range(vertical_level_count):\n",
    "                prev_state_key = (I, J, m - 1)\n",
    "                prev_cost = C.get(prev_state_key, np.inf)\n",
    "\n",
    "                if prev_cost == np.inf:\n",
    "                    continue\n",
    "\n",
    "                trans_cost = segment_energy_functional(y_levels[I], y_levels[J], y_levels[K])\n",
    "                total_cost = prev_cost + trans_cost\n",
    "\n",
    "                if total_cost < best_cost:\n",
    "                    best_cost = total_cost\n",
    "                    best_prev_I = I\n",
    "\n",
    "            C[(J, K, m)] = best_cost\n",
    "            survivor[(J, K, m)] = best_prev_I\n",
    "\n",
    "    min_cost = np.inf\n",
    "    best_final_key = None\n",
    "\n",
    "    for J, K in product(range(vertical_level_count), repeat=2):\n",
    "        current_key = (J, K, segment_count_beam)\n",
    "        cost = C.get(current_key, np.inf)\n",
    "        if cost < min_cost and K == index_zero:\n",
    "            min_cost = cost\n",
    "            best_final_key = current_key\n",
    "\n",
    "    if best_final_key is None or min_cost == np.inf:\n",
    "        print(\"No valid path found (possibly all paths lead to infinite cost).\")\n",
    "        return []\n",
    "    else:\n",
    "        path_indices = []\n",
    "        current_J, current_K, current_m = best_final_key\n",
    "\n",
    "        path_indices.append(current_K)\n",
    "        path_indices.append(current_J)\n",
    "\n",
    "        for m_step in range(segment_count_beam, 1, -1):\n",
    "            prev_I = survivor[(current_J, current_K, m_step)]\n",
    "            if prev_I is None:\n",
    "                break\n",
    "            path_indices.append(prev_I)\n",
    "            current_K = current_J \n",
    "            current_J = prev_I\n",
    "\n",
    "\n",
    "        final_J, final_K, _ = best_final_key\n",
    "        reconstructed_y_indices = [final_K]\n",
    "        reconstructed_y_indices.append(final_J)\n",
    "\n",
    "        current_J_trace = final_J\n",
    "        current_K_trace = final_K\n",
    "\n",
    "        for m_trace in range(segment_count_beam, 1, -1):\n",
    "            prev_I_trace = survivor[(current_J_trace, current_K_trace, m_trace)]\n",
    "            if prev_I_trace is None:\n",
    "                break\n",
    "            reconstructed_y_indices.append(prev_I_trace)\n",
    "            current_K_trace = current_J_trace\n",
    "            current_J_trace = prev_I_trace\n",
    "\n",
    "        reconstructed_y_indices.reverse()\n",
    "        y_viterbi = [y_levels[i] for i in reconstructed_y_indices]\n",
    "        return y_viterbi\n"
   ]
  },
  {
   "cell_type": "code",
   "execution_count": 876,
   "id": "366cadd3",
   "metadata": {},
   "outputs": [],
   "source": [
    "def x_from_y(y):\n",
    "    dy = np.diff(y)\n",
    "    dx = np.sqrt(ds**2 - dy**2)\n",
    "    x = np.cumulative_sum(dx, include_initial=True)\n",
    "    return x"
   ]
  },
  {
   "cell_type": "code",
   "execution_count": 877,
   "id": "5c9825d7",
   "metadata": {},
   "outputs": [
    {
     "name": "stdout",
     "output_type": "stream",
     "text": [
      "Δx = 0.0 mm\n"
     ]
    }
   ],
   "source": [
    "y_viterbi = viterbi_algorithm(vertical_level_count, segment_count_beam, segment_energy_functional)\n",
    "x_viterbi = x_from_y(y_viterbi)\n",
    "print(f\"Δx = {x_viterbi[-1]-length_beam:.1f} mm\")"
   ]
  },
  {
   "cell_type": "code",
   "execution_count": 878,
   "id": "1835b5ba",
   "metadata": {},
   "outputs": [],
   "source": [
    "# plt.figure()\n",
    "# plt.plot(s, y_viterbi, marker=\"\", linestyle=\"--\", label = \"y(s)\")\n",
    "# plt.plot(x_viterbi, y_viterbi, marker=\"\", linestyle=\"--\", label=\"y(x)\")\n",
    "# plt.axhline(channel_width_half)\n",
    "# plt.axhline(-channel_width_half)\n",
    "# plt.grid()\n",
    "# plt.legend()\n",
    "# plt.ylabel(\"y [mm]\")\n",
    "# plt.axis(\"equal\")\n",
    "# plt.show()"
   ]
  },
  {
   "cell_type": "markdown",
   "id": "df981c6e",
   "metadata": {},
   "source": [
    "<h4>Minimization<h4>"
   ]
  },
  {
   "cell_type": "code",
   "execution_count": 879,
   "id": "b96fc294",
   "metadata": {},
   "outputs": [],
   "source": [
    "def energy_functional(y):\n",
    "    v = 0\n",
    "    for i in range(len(y)-2):\n",
    "        theta1 = np.arcsin((y[i+1] - y[i]) / ds)\n",
    "        theta2 = np.arcsin((y[i+2] - y[i+1]) / ds)\n",
    "        kappa = (theta2 - theta1) / ds\n",
    "        internal_strain_energy = 0.5 * youngs_modulus * moment_of_inertia * kappa**2 * ds\n",
    "        external_force_work = horizontal_force * np.cos(theta1) * ds\n",
    "        v += internal_strain_energy + external_force_work\n",
    "    return v"
   ]
  },
  {
   "cell_type": "code",
   "execution_count": 880,
   "id": "1215be1e",
   "metadata": {},
   "outputs": [],
   "source": [
    "res = minimize( energy_functional, \n",
    "                x0=y_viterbi, \n",
    "                constraints = [{\"type\": \"eq\", \"fun\": lambda y: y[-1]},\n",
    "                               {\"type\": \"eq\", \"fun\": lambda y: y[0]}],\n",
    "                bounds = [(-channel_width_half, channel_width_half)\n",
    "                           for _ in range(segment_count_beam+1)],\n",
    "                method=\"SLSQP\"\n",
    "                )\n",
    "\n",
    "y_minimized = res.x\n",
    "x_minimized = x_from_y(y_minimized)"
   ]
  },
  {
   "cell_type": "code",
   "execution_count": 881,
   "id": "32c600b1",
   "metadata": {},
   "outputs": [],
   "source": [
    "header = f'{\"PARAMETER\":<25}  {\"VALUE\":<10}  {\"UNIT\":<10}'\n",
    "\n",
    "parameters_data = [\n",
    "    (\"Beam Segment Count\", segment_count_beam, \"\"),\n",
    "    (\"Vertical Level Count\", vertical_level_count, \"\"),\n",
    "    (\"Beam Length\", length_beam, \"mm\"),\n",
    "    (\"Horizontal Force\", horizontal_force, \"N\"),\n",
    "    (\"Young's Modulus\", youngs_modulus, \"MPa\"),\n",
    "    (\"Moment of Inertia\", moment_of_inertia, \"mm^4\"),\n",
    "    (\"Channel Half-Width\", channel_width_half, \"mm\"),\n",
    "    # (\"Boundary Penalty Coeff\", f\"{boundary_penalty_coefficient:.0e}\", \"\"),\n",
    "    # (\"Pinned Penalty Coeff\", f\"{pinned_penalty_coefficient:.0e}\", \"\"),\n",
    "    (\"Beam End x-Displacement\", f\"{x_minimized[-1]-length_beam:.1f}\", \"mm\"),\n",
    "\n",
    "]\n",
    "\n",
    "body_lines = []\n",
    "for name, value, unit in parameters_data:\n",
    "    value_str = str(value)\n",
    "    body_lines.append(f\"{name:<25}  {value_str:<10}  {unit:<10}\")\n",
    "\n",
    "solver_params_string = \"\\n\".join([\n",
    "    header,\n",
    "    *body_lines\n",
    "])"
   ]
  },
  {
   "cell_type": "code",
   "execution_count": 882,
   "id": "6aa51219",
   "metadata": {},
   "outputs": [
    {
     "name": "stdout",
     "output_type": "stream",
     "text": [
      " message: Optimization terminated successfully\n",
      " success: True\n",
      "  status: 0\n",
      "     fun: 495.0\n",
      "       x: [-2.500e-07 -3.050e-07 ... -3.675e-07 -2.500e-07]\n",
      "     nit: 1\n",
      "     jac: [ 0.000e+00  0.000e+00 ...  3.815e-06  3.815e-06]\n",
      "    nfev: 102\n",
      "    njev: 1\n"
     ]
    },
    {
     "data": {
      "image/png": "[encoded data removed]",
      "text/plain": [
       "<Figure size 640x480 with 1 Axes>"
      ]
     },
     "metadata": {},
     "output_type": "display_data"
    }
   ],
   "source": [
    "print(res)\n",
    "\n",
    "plt.hlines(channel_width_half, 0, length_beam, color=\"black\", label=\"Channel Boundaries\")\n",
    "plt.hlines(-channel_width_half, 0, length_beam, color=\"black\")\n",
    "plt.plot(x_viterbi, y_viterbi, marker=\".\", linestyle=\"--\", color=\"grey\",\n",
    "          label=f\"Initial Guess    (V = {energy_functional(y_viterbi):.3f} mJ)\")\n",
    "plt.plot(x_minimized, y_minimized, marker=\".\", linestyle=\"--\", color=\"blue\",\n",
    "          label=f\"Minimized Energy (V = {res.fun:.3f} mJ)\")\n",
    "plt.legend(loc=\"upper left\", bbox_to_anchor=(1, 1), prop=\"monospace\")\n",
    "plt.figtext(0.92, 0.15, solver_params_string, fontfamily=\"monospace\")\n",
    "plt.xlabel(\"x [mm]\")\n",
    "plt.ylabel(\"y [mm]\")\n",
    "# plt.axis(\"equal\")\n",
    "plt.grid()\n",
    "plt.show()"
   ]
  }
 ],
 "metadata": {
  "kernelspec": {
   "display_name": "Python 3",
   "language": "python",
   "name": "python3"
  },
  "language_info": {
   "codemirror_mode": {
    "name": "ipython",
    "version": 3
   },
   "file_extension": ".py",
   "mimetype": "text/x-python",
   "name": "python",
   "nbconvert_exporter": "python",
   "pygments_lexer": "ipython3",
   "version": "3.11.9"
  }
 },
 "nbformat": 4,
 "nbformat_minor": 5
}
